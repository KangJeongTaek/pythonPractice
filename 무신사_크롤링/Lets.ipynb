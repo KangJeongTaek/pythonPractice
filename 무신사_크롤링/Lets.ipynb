{
 "cells": [
  {
   "cell_type": "markdown",
   "metadata": {},
   "source": [
    "### 무신사 크롤링하기"
   ]
  },
  {
   "cell_type": "code",
   "execution_count": 61,
   "metadata": {},
   "outputs": [],
   "source": [
    "# 필요 라이브러리 가져오기\n",
    "from bs4 import BeautifulSoup\n",
    "import pandas as pd\n",
    "from selenium import webdriver\n",
    "import requests\n",
    "import time\n",
    "from tqdm import tqdm\n",
    "import matplotlib.pyplot as plt\n",
    "import seaborn as sns"
   ]
  },
  {
   "cell_type": "code",
   "execution_count": 66,
   "metadata": {},
   "outputs": [],
   "source": [
    "from matplotlib import rcParams,font_manager,rc\n",
    "font_path = 'C:/Windows/Fonts/NanumGothicCoding.ttf' #나눔고딕코딩체\n",
    "font_name = font_manager.FontProperties(fname=font_path).get_name() # 실제 설치된 폰트 이름 조회\n",
    "rc('font',family=font_name) # 한글깨짐 현상 해결!!\n",
    "rcParams['axes.unicode_minus'] = False # 한글 사용시 마이너스가 표시가 깨지는 걸 방지"
   ]
  },
  {
   "cell_type": "code",
   "execution_count": 85,
   "metadata": {},
   "outputs": [],
   "source": [
    "driver = webdriver.Chrome()\n",
    "driver.get('https://www.musinsa.com/categories/item/001005?d_cat_cd=001005&brand=&list_kind=small&sort=pop_category&sub_sort=&page=2&display_cnt=90&exclusive_yn='\\\n",
    "           + '&sale_goods=&timesale_yn=&ex_soldout=&plusDeliveryYn=&kids=&color=&price1=&price2=&shoeSizeOption=&tags=&campaign_id=&includeKeywords=&measure=')"
   ]
  },
  {
   "cell_type": "code",
   "execution_count": 4,
   "metadata": {},
   "outputs": [],
   "source": [
    "html = driver.page_source\n",
    "soup = BeautifulSoup(html,'html.parser')"
   ]
  },
  {
   "cell_type": "code",
   "execution_count": 5,
   "metadata": {},
   "outputs": [],
   "source": [
    "# 타이틀을 가지고 있는 클래스\n",
    "pro_title = soup.select('.img-block')\n",
    "\n",
    "\n",
    "##타이틀\n",
    "# [i]['title']"
   ]
  },
  {
   "cell_type": "code",
   "execution_count": 6,
   "metadata": {},
   "outputs": [],
   "source": [
    "pro_title_list = []\n",
    "for title in pro_title:\n",
    "    pro_title_list.append(title['title'])\n"
   ]
  },
  {
   "cell_type": "code",
   "execution_count": 7,
   "metadata": {},
   "outputs": [
    {
     "data": {
      "text/plain": [
       "90"
      ]
     },
     "execution_count": 7,
     "metadata": {},
     "output_type": "execute_result"
    }
   ],
   "source": [
    "len(pro_title_list)"
   ]
  },
  {
   "cell_type": "code",
   "execution_count": 8,
   "metadata": {},
   "outputs": [],
   "source": [
    "## 브랜드\n",
    "pro_brand = soup.select('.item_title > a')\n",
    "\n",
    "## 정확한 브랜드 위치\n",
    "# [i].text"
   ]
  },
  {
   "cell_type": "code",
   "execution_count": 45,
   "metadata": {},
   "outputs": [],
   "source": [
    "## 페이지 바꾸는 함수\n",
    "def musinsa_data(page):\n",
    "    url = f'https://www.musinsa.com/categories/item/001005?d_cat_cd=001005&brand=&list_kind=small&sort=sale_high&sub_sort=1y&page={page}&display_cnt=90&exclusive_yn=&sale_goods=&timesale_yn=&ex_soldout=&plusDeliveryYn=&kids=&color=&price1=&price2=&shoeSizeOption=&tags=&campaign_id=&includeKeywords=&measure='\n",
    "    return url"
   ]
  },
  {
   "cell_type": "code",
   "execution_count": 46,
   "metadata": {},
   "outputs": [],
   "source": [
    "## 크롤링 한 데이터를 df로 만드는 함수\n",
    "def product_data(page):\n",
    "    url = musinsa_data(page=page)\n",
    "    # url로 페이지 소스 가져오기\n",
    "    reponse = requests.get(url)\n",
    "    soup = BeautifulSoup(reponse.text,'lxml')\n",
    "    # 전체를 담을 리스트 생성\n",
    "    prod_list = []\n",
    "\n",
    "\n",
    "    # 제품명 리스트\n",
    "    pro_title = soup.select('.img-block')\n",
    "    # 브랜드 리스트\n",
    "    pro_brand = soup.select('.item_title > a')\n",
    "    # 가격 리스트\n",
    "    pro_price = soup.select('.price')\n",
    "\n",
    "    for index in range(0,len(pro_title)):\n",
    "        ## 제품명\n",
    "        name = pro_title[index]['title']\n",
    "\n",
    "        ## 브랜드\n",
    "        brand = pro_brand[index].text\n",
    "\n",
    "        ## 상품 가격\n",
    "        non_sale = int(pro_price[index].text.split('원')[0].strip().replace(',',''))\n",
    "\n",
    "        ## 세일 가격\n",
    "        try:\n",
    "            sale = int(pro_price[index].text.split('원')[1].strip().replace(',',''))\n",
    "        except:\n",
    "            sale = ''\n",
    "\n",
    "        dict = {'제품명': name,'브랜드':brand,'상품 가격':non_sale,'세일 가격':sale}\n",
    "        prod_list.append(dict)\n",
    "\n",
    "        \n",
    "\n",
    "\n",
    "    time.sleep(5)\n",
    "\n",
    "    ##  리스트를 반환하기\n",
    "    return prod_list"
   ]
  },
  {
   "cell_type": "code",
   "execution_count": 179,
   "metadata": {},
   "outputs": [],
   "source": [
    "## 크롤링 한 데이터를 df로 만드는 함수\n",
    "def product_data(page):\n",
    "    url = musinsa_data(page=page)\n",
    "    # url로 페이지 소스 가져오기\n",
    "    reponse = requests.get(url)\n",
    "    soup = BeautifulSoup(reponse.text,'lxml')\n",
    "    # 전체를 담을 리스트 생성\n",
    "    prod_list = []\n",
    "\n",
    "\n",
    "    # 제품명\n",
    "    pro_title_list = []\n",
    "    for title in pro_title:\n",
    "        pro_title_list.append(title['title'])\n",
    "\n",
    "    ## 브랜드\n",
    "    pro_brand = soup.select('.item_title > a')\n",
    "    pro_brnad_list = []\n",
    "    for brand in pro_brand:\n",
    "        pro_brnad_list.append(brand.text)\n",
    "\n",
    "    ## 상품 가격\n",
    "    pro_price = soup.select('.price')\n",
    "    pro_price[0].text.replace('\\n','').strip().replace('원','')\n",
    "\n",
    "    pro_price_list = []\n",
    "    for price in pro_price:\n",
    "        pro_price_list.append(price.text.replace('\\n','').strip().replace('원',''))\n",
    "\n",
    "    ## 세일 안하는 가격\n",
    "    pro_pirce_list_non_sale = []\n",
    "    for price in pro_price_list:\n",
    "        pro_pirce_list_non_sale.append(int(price.split('                ')[0].replace(',','')))\n",
    "\n",
    "    ## 세일 하는 가격\n",
    "    pro_price_list_on_sale = []\n",
    "    for price in pro_price_list:\n",
    "        try:\n",
    "            pro_price_list_on_sale.append(int(price.split('                ')[1].replace(',','')))\n",
    "        except:\n",
    "            pro_price_list_on_sale.append('')\n",
    "    time.sleep(5)\n",
    "\n",
    "    ##  리스트를 반환하기\n",
    "    return [{'브랜드':pro_brnad_list,'제품명':pro_title_list,'상품 가격':pro_pirce_list_non_sale, '세일 가격':pro_price_list_on_sale}]"
   ]
  },
  {
   "cell_type": "code",
   "execution_count": 50,
   "metadata": {},
   "outputs": [
    {
     "name": "stderr",
     "output_type": "stream",
     "text": [
      "100%|██████████| 10/10 [01:09<00:00,  6.92s/it]\n"
     ]
    }
   ],
   "source": [
    "## 10페이지까지 긁어모으기\n",
    "start_page = 1\n",
    "end_page = 10\n",
    "product_list = []\n",
    "for i in tqdm(range(start_page,end_page + 1)):\n",
    "    product_list = product_list + product_data(i)"
   ]
  },
  {
   "cell_type": "code",
   "execution_count": 51,
   "metadata": {},
   "outputs": [],
   "source": [
    "musinsa_top = pd.DataFrame(product_list)"
   ]
  },
  {
   "cell_type": "code",
   "execution_count": 56,
   "metadata": {},
   "outputs": [
    {
     "data": {
      "text/html": [
       "<div>\n",
       "<style scoped>\n",
       "    .dataframe tbody tr th:only-of-type {\n",
       "        vertical-align: middle;\n",
       "    }\n",
       "\n",
       "    .dataframe tbody tr th {\n",
       "        vertical-align: top;\n",
       "    }\n",
       "\n",
       "    .dataframe thead th {\n",
       "        text-align: right;\n",
       "    }\n",
       "</style>\n",
       "<table border=\"1\" class=\"dataframe\">\n",
       "  <thead>\n",
       "    <tr style=\"text-align: right;\">\n",
       "      <th></th>\n",
       "      <th>제품명</th>\n",
       "      <th>브랜드</th>\n",
       "      <th>상품 가격</th>\n",
       "      <th>세일 가격</th>\n",
       "    </tr>\n",
       "  </thead>\n",
       "  <tbody>\n",
       "    <tr>\n",
       "      <th>0</th>\n",
       "      <td>980G 피그먼트 맨투맨-챠콜-</td>\n",
       "      <td>소버먼트</td>\n",
       "      <td>95500</td>\n",
       "      <td>57300</td>\n",
       "    </tr>\n",
       "    <tr>\n",
       "      <th>1</th>\n",
       "      <td>SMALL CENTER 맨투맨 (STMSTD-0015)</td>\n",
       "      <td>1989스탠다드</td>\n",
       "      <td>59900</td>\n",
       "      <td>29900</td>\n",
       "    </tr>\n",
       "    <tr>\n",
       "      <th>2</th>\n",
       "      <td>[3-PACK]베이직 트래블러 피그먼트 스웨트셔츠</td>\n",
       "      <td>트래블</td>\n",
       "      <td>150000</td>\n",
       "      <td>52900</td>\n",
       "    </tr>\n",
       "    <tr>\n",
       "      <th>3</th>\n",
       "      <td>스웨트셔츠 [블랙]</td>\n",
       "      <td>무신사 스탠다드</td>\n",
       "      <td>29900</td>\n",
       "      <td>20900</td>\n",
       "    </tr>\n",
       "    <tr>\n",
       "      <th>4</th>\n",
       "      <td>피치스킨 러스티 로고 스웨트셔츠 [블랙]</td>\n",
       "      <td>슬로우애시드</td>\n",
       "      <td>79000</td>\n",
       "      <td>55300</td>\n",
       "    </tr>\n",
       "  </tbody>\n",
       "</table>\n",
       "</div>"
      ],
      "text/plain": [
       "                              제품명       브랜드   상품 가격  세일 가격\n",
       "0               980G 피그먼트 맨투맨-챠콜-      소버먼트   95500  57300\n",
       "1  SMALL CENTER 맨투맨 (STMSTD-0015)  1989스탠다드   59900  29900\n",
       "2     [3-PACK]베이직 트래블러 피그먼트 스웨트셔츠       트래블  150000  52900\n",
       "3                      스웨트셔츠 [블랙]  무신사 스탠다드   29900  20900\n",
       "4          피치스킨 러스티 로고 스웨트셔츠 [블랙]    슬로우애시드   79000  55300"
      ]
     },
     "execution_count": 56,
     "metadata": {},
     "output_type": "execute_result"
    }
   ],
   "source": [
    "musinsa_top.head()"
   ]
  },
  {
   "cell_type": "code",
   "execution_count": 57,
   "metadata": {},
   "outputs": [],
   "source": [
    "musinsa_top.to_excel('./data/2024_03_21_무신사_맨투맨스웨트셔츠_판매순.xlsx',index=False)"
   ]
  },
  {
   "cell_type": "code",
   "execution_count": 58,
   "metadata": {},
   "outputs": [],
   "source": [
    "df_musinsa_top = pd.read_excel('./data/2024_03_21_무신사_맨투맨스웨트셔츠_판매순.xlsx')"
   ]
  },
  {
   "cell_type": "code",
   "execution_count": null,
   "metadata": {},
   "outputs": [],
   "source": [
    "df_musinsa_top['브랜드'].value_counts().head(20)"
   ]
  },
  {
   "cell_type": "code",
   "execution_count": null,
   "metadata": {},
   "outputs": [],
   "source": [
    "# 바 차트 만들기\n",
    "bar = df_musinsa_top['브랜드'].value_counts().head(20).plot.bar()\n",
    "for rect in bar.patches:\n",
    "    height = rect.get_height()\n",
    "    plt.text(rect.get_x() + rect.get_width()/2.0, height, height, ha='center', va='bottom', size = 8)\n",
    "\n",
    "plt.show()"
   ]
  },
  {
   "cell_type": "code",
   "execution_count": 150,
   "metadata": {},
   "outputs": [
    {
     "data": {
      "image/png": "[encoded data removed]",
      "text/plain": [
       "<Figure size 640x480 with 1 Axes>"
      ]
     },
     "metadata": {},
     "output_type": "display_data"
    }
   ],
   "source": [
    "wedgeProps = {'width' : 0.8, 'edgecolor' : 'w', 'linewidth': 1}\n",
    "pie = df_musinsa_top['브랜드'].value_counts().head(20).plot.pie(shadow=True,wedgeprops=wedgeProps)\n",
    "\n",
    "\n",
    "pie.set_ylabel(None)\n",
    "plt.show()\n"
   ]
  },
  {
   "cell_type": "code",
   "execution_count": 103,
   "metadata": {},
   "outputs": [],
   "source": [
    "df_musinsa_top['랭킹'] = df_musinsa_top.index + 1"
   ]
  },
  {
   "cell_type": "code",
   "execution_count": 105,
   "metadata": {},
   "outputs": [
    {
     "data": {
      "text/html": [
       "<div>\n",
       "<style scoped>\n",
       "    .dataframe tbody tr th:only-of-type {\n",
       "        vertical-align: middle;\n",
       "    }\n",
       "\n",
       "    .dataframe tbody tr th {\n",
       "        vertical-align: top;\n",
       "    }\n",
       "\n",
       "    .dataframe thead th {\n",
       "        text-align: right;\n",
       "    }\n",
       "</style>\n",
       "<table border=\"1\" class=\"dataframe\">\n",
       "  <thead>\n",
       "    <tr style=\"text-align: right;\">\n",
       "      <th></th>\n",
       "      <th>랭킹</th>\n",
       "      <th>상품 가격</th>\n",
       "      <th>세일 가격</th>\n",
       "    </tr>\n",
       "  </thead>\n",
       "  <tbody>\n",
       "    <tr>\n",
       "      <th>랭킹</th>\n",
       "      <td>1.000000</td>\n",
       "      <td>-0.023911</td>\n",
       "      <td>-0.047075</td>\n",
       "    </tr>\n",
       "    <tr>\n",
       "      <th>상품 가격</th>\n",
       "      <td>-0.023911</td>\n",
       "      <td>1.000000</td>\n",
       "      <td>0.741656</td>\n",
       "    </tr>\n",
       "    <tr>\n",
       "      <th>세일 가격</th>\n",
       "      <td>-0.047075</td>\n",
       "      <td>0.741656</td>\n",
       "      <td>1.000000</td>\n",
       "    </tr>\n",
       "  </tbody>\n",
       "</table>\n",
       "</div>"
      ],
      "text/plain": [
       "             랭킹     상품 가격     세일 가격\n",
       "랭킹     1.000000 -0.023911 -0.047075\n",
       "상품 가격 -0.023911  1.000000  0.741656\n",
       "세일 가격 -0.047075  0.741656  1.000000"
      ]
     },
     "execution_count": 105,
     "metadata": {},
     "output_type": "execute_result"
    }
   ],
   "source": [
    "df_musinsa_top[['랭킹','상품 가격','세일 가격']].corr(method='pearson')\n",
    "\n",
    "## 랭킹과 상품 가격, 세일 가격과는 별 연관이 없다\n",
    "\n",
    "## 세일 가격과 상품 가격과의 연관성이 크다 // 상품 가격이 증가하면 대체로 세일 가격도 증가한다.\n"
   ]
  },
  {
   "cell_type": "code",
   "execution_count": null,
   "metadata": {},
   "outputs": [],
   "source": [
    "df_musinsa_top[['랭킹','상품 가격','세일 가격']].corr(method='spearman')\n"
   ]
  },
  {
   "cell_type": "code",
   "execution_count": null,
   "metadata": {},
   "outputs": [],
   "source": [
    "## 세일 폭과 랭킹과의 상관 관계 알아보기\n",
    "\n",
    "df_sale = df_musinsa_top[df_musinsa_top['세일 가격'].isnull() == False]\n",
    "\n",
    "\n",
    "df_sale['세일 폭'] = df_sale['상품 가격'] - df_sale['세일 가격']"
   ]
  },
  {
   "cell_type": "code",
   "execution_count": null,
   "metadata": {},
   "outputs": [],
   "source": [
    "df_sale['세일 폭'] = df_sale['세일 폭'].astype(int)"
   ]
  },
  {
   "cell_type": "code",
   "execution_count": 170,
   "metadata": {},
   "outputs": [],
   "source": [
    "df = df_sale[['랭킹','세일 폭','상품 가격','세일 가격']].corr(method='pearson')"
   ]
  },
  {
   "cell_type": "code",
   "execution_count": null,
   "metadata": {},
   "outputs": [],
   "source": [
    "df"
   ]
  },
  {
   "cell_type": "code",
   "execution_count": null,
   "metadata": {},
   "outputs": [],
   "source": [
    "df_musinsa_top.head(200)['브랜드'].value_counts()"
   ]
  }
 ],
 "metadata": {
  "kernelspec": {
   "display_name": "Python 3",
   "language": "python",
   "name": "python3"
  },
  "language_info": {
   "codemirror_mode": {
    "name": "ipython",
    "version": 3
   },
   "file_extension": ".py",
   "mimetype": "text/x-python",
   "name": "python",
   "nbconvert_exporter": "python",
   "pygments_lexer": "ipython3",
   "version": "3.12.2"
  }
 },
 "nbformat": 4,
 "nbformat_minor": 2
}
