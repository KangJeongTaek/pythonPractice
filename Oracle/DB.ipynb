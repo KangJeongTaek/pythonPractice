{
 "cells": [
  {
   "cell_type": "code",
   "execution_count": null,
   "metadata": {},
   "outputs": [],
   "source": [
    "!pip install oracledb"
   ]
  },
  {
   "cell_type": "code",
   "execution_count": 21,
   "metadata": {},
   "outputs": [],
   "source": [
    "import oracledb"
   ]
  },
  {
   "cell_type": "code",
   "execution_count": 48,
   "metadata": {},
   "outputs": [],
   "source": [
    "def sign_up():\n",
    "    con = oracledb.connect(user='test',password='1234',host='localhost', port='1521')\n",
    "    curser = con.cursor()\n",
    "    id = input(\"아이디를 입력하세요.\")\n",
    "    pas = input(\"비밀번호를 입력하세요\")\n",
    "    sql = f\"INSERT INTO USERS VALUES('{id}','{pas}',SYSDATE)\"\n",
    "    curser.execute(sql)\n",
    "    con.commit()\n",
    "    curser.close()\n",
    "    con.close()"
   ]
  },
  {
   "cell_type": "code",
   "execution_count": 83,
   "metadata": {},
   "outputs": [],
   "source": [
    "sign_up()"
   ]
  },
  {
   "cell_type": "code",
   "execution_count": 81,
   "metadata": {},
   "outputs": [],
   "source": [
    "def sign_in():\n",
    "    con = oracledb.connect(user='test',password='1234',host='localhost', port='1521')\n",
    "    curser = con.cursor()\n",
    "    id = input(\"아이디를 입력하세요\")\n",
    "    pas =  input(\"비밀 번호를 입력하세요\") \n",
    "    sql = f\"SELECT ID,PASSWORD FROM USERS\"\n",
    "    rs = curser.execute(sql)\n",
    "    lst = list(rs)\n",
    "    logcheck = False\n",
    "    for data in lst:\n",
    "        if(id == data[0] and pas ==data[1]):\n",
    "            logcheck = True\n",
    "    if(logcheck):\n",
    "        print(\"로그인에 성공하셨습니다.\")\n",
    "    else:\n",
    "        print(\"해당하는 정보가 없습니다.\")\n",
    "    curser.close()\n",
    "    con.close()"
   ]
  },
  {
   "cell_type": "code",
   "execution_count": 84,
   "metadata": {},
   "outputs": [
    {
     "name": "stdout",
     "output_type": "stream",
     "text": [
      "로그인에 성공하셨습니다.\n"
     ]
    }
   ],
   "source": [
    "sign_in()"
   ]
  }
 ],
 "metadata": {
  "kernelspec": {
   "display_name": "Python 3",
   "language": "python",
   "name": "python3"
  },
  "language_info": {
   "codemirror_mode": {
    "name": "ipython",
    "version": 3
   },
   "file_extension": ".py",
   "mimetype": "text/x-python",
   "name": "python",
   "nbconvert_exporter": "python",
   "pygments_lexer": "ipython3",
   "version": "3.12.2"
  }
 },
 "nbformat": 4,
 "nbformat_minor": 2
}
